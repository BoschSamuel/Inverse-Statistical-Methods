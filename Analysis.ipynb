{
 "cells": [
  {
   "cell_type": "markdown",
   "metadata": {},
   "source": [
    "# Analysis of the simulation results"
   ]
  },
  {
   "cell_type": "code",
   "execution_count": 1,
   "metadata": {},
   "outputs": [],
   "source": [
    "import numpy as np\n",
    "import matplotlib.pyplot as plt\n",
    "from scipy.stats.stats import pearsonr"
   ]
  },
  {
   "cell_type": "code",
   "execution_count": 2,
   "metadata": {},
   "outputs": [],
   "source": [
    "# Reading the \"C.txt\" file\n",
    "with open('C.txt') as f:\n",
    "    C_file = []\n",
    "    for line in f: # read rest of lines\n",
    "        C_file.append(float(line))\n",
    "    max_spin = int(C_file[0])\n",
    "    N = int(C_file[1])\n",
    "    beta = float(C_file[2])\n",
    "    counter = int(C_file[3])\n",
    "    relaxation_time = float(C_file[4])\n",
    "    max_number_of_interations = int(C_file[5])\n",
    "    del C_file[0]\n",
    "    del C_file[0]\n",
    "    del C_file[0]\n",
    "    del C_file[0]\n",
    "    del C_file[0]\n",
    "    del C_file[0]"
   ]
  },
  {
   "cell_type": "code",
   "execution_count": 3,
   "metadata": {},
   "outputs": [],
   "source": [
    "if (len(C_file) != N**2*(max_spin+1)**2):\n",
    "    print('C.txt size error')"
   ]
  },
  {
   "cell_type": "code",
   "execution_count": 4,
   "metadata": {},
   "outputs": [],
   "source": [
    "C = np.zeros((N,N,max_spin+1,max_spin+1))\n",
    "C_reduced = np.zeros((N*max_spin,N*max_spin))\n",
    "k = 0\n",
    "for i in range(max_spin+1):\n",
    "    for j in range(max_spin+1):\n",
    "        for ii in range(N):\n",
    "            for jj in range(N):\n",
    "                C[ii][jj][i][j] = C_file[k]\n",
    "                k += 1"
   ]
  },
  {
   "cell_type": "code",
   "execution_count": 5,
   "metadata": {},
   "outputs": [],
   "source": [
    "for i in range(max_spin):\n",
    "    for j in range(max_spin):\n",
    "        for ii in range(N):\n",
    "            for jj in range(N):\n",
    "                C_reduced[(max_spin)*ii+i][(max_spin)*jj+j] = C[ii][jj][i][j]"
   ]
  },
  {
   "cell_type": "code",
   "execution_count": 6,
   "metadata": {},
   "outputs": [],
   "source": [
    "g = open('J.txt' , 'r')\n",
    "J = np.array([[float(num) for num in line.split(' ')] for line in g ])"
   ]
  },
  {
   "cell_type": "code",
   "execution_count": 7,
   "metadata": {},
   "outputs": [],
   "source": [
    "maximum_J = np.max(J)\n",
    "minimum_J = np.min(J)\n",
    "C_reduced_inv = np.linalg.pinv(C_reduced)\n",
    "J_derived = np.zeros((N*(max_spin+1),N*(max_spin+1)))\n",
    "for i in range(max_spin):\n",
    "    for j in range(max_spin):\n",
    "        for ii in range(N):\n",
    "            for jj in range(N):\n",
    "                J_derived[(max_spin+1)*ii+i][(max_spin+1)*jj+j]=C_reduced_inv[(max_spin)*ii+i][(max_spin)*jj+j]\n",
    "                if (J_derived[(max_spin+1)*ii+i][(max_spin+1)*jj+j]>1.05*maximum_J):\n",
    "                    J_derived[(max_spin+1)*ii+i][(max_spin+1)*jj+j]=0\n",
    "                if (J_derived[(max_spin+1)*ii+i][(max_spin+1)*jj+j]<1.05*minimum_J):\n",
    "                    J_derived[(max_spin+1)*ii+i][(max_spin+1)*jj+j]=0\n",
    "                if ii==jj:\n",
    "                    J_derived[(max_spin+1)*ii+i][(max_spin+1)*jj+j]=0"
   ]
  },
  {
   "cell_type": "code",
   "execution_count": 8,
   "metadata": {},
   "outputs": [
    {
     "name": "stdout",
     "output_type": "stream",
     "text": [
      "Correlation = (0.5002741438333113, 0.0)\n",
      "T = 6.8\n",
      "Counter = 2442009557\n",
      "Relaxation time = 0.52\n",
      "Estimated flips = 95238372723.0\n",
      "Max number of iterations = 100000000000\n"
     ]
    }
   ],
   "source": [
    "print(\"Correlation =\", pearsonr(np.ndarray.flatten(J),np.ndarray.flatten(J_derived)))\n",
    "print(\"T =\",np.round(1/beta,4))\n",
    "print(\"Counter =\", counter)\n",
    "print(\"Relaxation time =\", relaxation_time)\n",
    "print(\"Estimated flips =\", N*counter*3*relaxation_time)\n",
    "print(\"Max number of iterations =\",max_number_of_interations)"
   ]
  }
 ],
 "metadata": {
  "kernelspec": {
   "display_name": "Python 3",
   "language": "python",
   "name": "python3"
  },
  "language_info": {
   "codemirror_mode": {
    "name": "ipython",
    "version": 3
   },
   "file_extension": ".py",
   "mimetype": "text/x-python",
   "name": "python",
   "nbconvert_exporter": "python",
   "pygments_lexer": "ipython3",
   "version": "3.6.4"
  }
 },
 "nbformat": 4,
 "nbformat_minor": 2
}
