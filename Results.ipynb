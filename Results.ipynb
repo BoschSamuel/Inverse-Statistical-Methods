{
 "cells": [
  {
   "cell_type": "markdown",
   "metadata": {},
   "source": [
    "# Inverse statistical methods and pseudolikelihood approximation"
   ]
  },
  {
   "cell_type": "code",
   "execution_count": null,
   "metadata": {},
   "outputs": [],
   "source": [
    "import numpy as np\n",
    "import matplotlib.pyplot as plt\n",
    "import matplotlib"
   ]
  },
  {
   "cell_type": "code",
   "execution_count": null,
   "metadata": {},
   "outputs": [],
   "source": [
    "# Reading the \"Energy_vs_time.txt\" file\n",
    "with open('Energy_vs_time.txt') as f:\n",
    "    E = []\n",
    "    t = []\n",
    "    for line in f: # read rest of lines\n",
    "        E.append(float(line))\n",
    "    N = int(E[0])\n",
    "    del E[0]"
   ]
  },
  {
   "cell_type": "code",
   "execution_count": null,
   "metadata": {},
   "outputs": [],
   "source": [
    "#Note, you may have to run this cell up to 3 times in order to get the right figure!!!\n",
    "font = {'weight' : 'bold', 'size'   : 50}\n",
    "time = np.linspace(0,len(E)/N,len(E))\n",
    "matplotlib.rc('font', **font)\n",
    "lines = plt.plot(time,E)\n",
    "plt.ylabel('Energy')\n",
    "plt.xlabel('Step number')\n",
    "plt.grid(True)\n",
    "plt.title('Time evolution')\n",
    "plt.rcParams[\"figure.figsize\"]=60,35\n",
    "plt.setp(lines, linewidth=5)"
   ]
  },
  {
   "cell_type": "code",
   "execution_count": null,
   "metadata": {},
   "outputs": [],
   "source": [
    "# Reading the \"Autocorrelation.txt\" file\n",
    "with open('Autocorrelation.txt') as f:\n",
    "    Autocorrelation = []\n",
    "    for line in f: # read rest of lines\n",
    "        Autocorrelation.append(float(line))"
   ]
  },
  {
   "cell_type": "code",
   "execution_count": null,
   "metadata": {},
   "outputs": [],
   "source": [
    "plt.plot(time[:len(Autocorrelation)][:200],Autocorrelation[:200])\n",
    "plt.ylabel('Autocorrelation ')\n",
    "plt.xlabel('Step number')\n",
    "plt.grid(True)\n",
    "plt.title('Autocorrelation function')\n",
    "plt.rcParams[\"figure.figsize\"]=15,9\n",
    "plt.show()"
   ]
  },
  {
   "cell_type": "code",
   "execution_count": null,
   "metadata": {},
   "outputs": [],
   "source": []
  }
 ],
 "metadata": {
  "kernelspec": {
   "display_name": "Python 3",
   "language": "python",
   "name": "python3"
  },
  "language_info": {
   "codemirror_mode": {
    "name": "ipython",
    "version": 3
   },
   "file_extension": ".py",
   "mimetype": "text/x-python",
   "name": "python",
   "nbconvert_exporter": "python",
   "pygments_lexer": "ipython3",
   "version": "3.6.4"
  }
 },
 "nbformat": 4,
 "nbformat_minor": 2
}
